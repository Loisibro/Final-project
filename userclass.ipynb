{
 "cells": [
  {
   "cell_type": "code",
   "execution_count": 2,
   "id": "4da98cba-61f5-4e07-93b1-d20e1ca717a6",
   "metadata": {},
   "outputs": [],
   "source": [
    "import csv\n",
    "from pymongo import MongoClient"
   ]
  },
  {
   "cell_type": "code",
   "execution_count": 4,
   "id": "5b495900-434b-45fd-91c8-7c94b12e1556",
   "metadata": {},
   "outputs": [],
   "source": [
    "import csv\n",
    "import os\n",
    "\n",
    "class User:\n",
    "    def __init__(self, age, gender, total_income, expenses):\n",
    "        self.age = age\n",
    "        self.gender = gender\n",
    "        self.total_income = total_income\n",
    "        self.expenses = expenses\n",
    "\n",
    "    def to_dict(self):\n",
    "        \"\"\" Return a dictionary representation suitable for writing to CSV. \"\"\"\n",
    "        user_dict = {\n",
    "            \"Age\": self.age,\n",
    "            \"Gender\": self.gender,\n",
    "            \"Total_Income\": self.total_income\n",
    "        }\n",
    "        # Merge expense categories into the user_dict\n",
    "        for category, amount in self.expenses.items():\n",
    "            user_dict[category] = amount\n",
    "        return user_dict\n",
    "\n",
    "    @staticmethod\n",
    "    def export_to_csv(user_list, csv_filepath):\n",
    "        \"\"\" \n",
    "        Writes a list of User objects to a CSV file. \n",
    "        \"\"\"\n",
    "        if not user_list:\n",
    "            return\n",
    "\n",
    "        # Extract all expense categories from the first user for CSV headers\n",
    "        first_user_expenses = user_list[0].expenses.keys()\n",
    "\n",
    "        # Build header\n",
    "        fieldnames = [\"Age\", \"Gender\", \"Total_Income\"] + list(first_user_expenses)\n",
    "\n",
    "        file_exists = os.path.exists(csv_filepath)\n",
    "        \n",
    "        with open(csv_filepath, mode='a', newline='') as csv_file:\n",
    "            writer = csv.DictWriter(csv_file, fieldnames=fieldnames)\n",
    "\n",
    "            # Write header only if file doesn't exist\n",
    "            if not file_exists:\n",
    "                writer.writeheader()\n",
    "\n",
    "            for user in user_list:\n",
    "                writer.writerow(user.to_dict())\n"
   ]
  },
  {
   "cell_type": "code",
   "execution_count": null,
   "id": "efaf8ef4-8250-48ff-a1d6-396b4b3e230e",
   "metadata": {},
   "outputs": [],
   "source": []
  }
 ],
 "metadata": {
  "kernelspec": {
   "display_name": "Python [conda env:base] *",
   "language": "python",
   "name": "conda-base-py"
  },
  "language_info": {
   "codemirror_mode": {
    "name": "ipython",
    "version": 3
   },
   "file_extension": ".py",
   "mimetype": "text/x-python",
   "name": "python",
   "nbconvert_exporter": "python",
   "pygments_lexer": "ipython3",
   "version": "3.12.3"
  }
 },
 "nbformat": 4,
 "nbformat_minor": 5
}
