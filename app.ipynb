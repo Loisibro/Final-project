{
 "cells": [
  {
   "cell_type": "code",
   "execution_count": 2,
   "id": "42678898-7c34-405f-b3de-c564a4f34238",
   "metadata": {},
   "outputs": [],
   "source": [
    "from flask import Flask, render_template, request, redirect, url_for\n",
    "from pymongo import MongoClient"
   ]
  },
  {
   "cell_type": "code",
   "execution_count": 4,
   "id": "94a1748b-b604-42b5-8126-72bcea5af909",
   "metadata": {},
   "outputs": [],
   "source": [
    "app = Flask(__name__)\n"
   ]
  },
  {
   "cell_type": "code",
   "execution_count": 6,
   "id": "af7d53d8-eaa0-4862-ac93-078c13e70236",
   "metadata": {},
   "outputs": [],
   "source": [
    "# Replace with your MongoDB connection string\n",
    "client = MongoClient(\"mongodb+srv://loisibro:<db_password>@testcluster.ic1q6.mongodb.net/?retryWrites=true&w=majority&appName=TestCluster\")\n",
    "db = client[\"surveyDB\"]          # Database name\n",
    "collection = db[\"users\"]         # Collection name"
   ]
  },
  {
   "cell_type": "code",
   "execution_count": 8,
   "id": "bccc2ab1-e6b1-4e3c-b377-1e226bda2ed4",
   "metadata": {},
   "outputs": [],
   "source": [
    "@app.route('/', methods=['GET', 'POST'])\n",
    "def survey():\n",
    "    if request.method == 'POST':\n",
    "        try:\n",
    "            age = int(request.form['age'])\n",
    "            gender = request.form['gender']\n",
    "            total_income = float(request.form['total_income'])\n",
    "            \n",
    "            expenses = {}\n",
    "            categories = ['utilities', 'entertainment', 'school_fees', 'shopping', 'healthcare']\n",
    "            for category in categories:\n",
    "                amount = request.form.get(f\"{category}_amount\", 0.0)\n",
    "                expenses[category] = float(amount) if amount else 0.0\n",
    "\n",
    "            user_data = {\n",
    "                'age': age,\n",
    "                'gender': gender,\n",
    "                'total_income': total_income,\n",
    "                'expenses': expenses\n",
    "            }\n",
    "            users_collection.insert_one(user_data)\n",
    "            return redirect(url_for('thank_you'))\n",
    "        except Exception as e:\n",
    "            return f\"An error occurred: {str(e)}\", 400\n",
    "\n",
    "    return render_template('form.html')"
   ]
  },
  {
   "cell_type": "code",
   "execution_count": null,
   "id": "cc45ec42-0610-4814-985e-4d5f572cc3b5",
   "metadata": {},
   "outputs": [
    {
     "name": "stdout",
     "output_type": "stream",
     "text": [
      " * Serving Flask app '__main__'\n",
      " * Debug mode: on\n"
     ]
    },
    {
     "name": "stderr",
     "output_type": "stream",
     "text": [
      "WARNING: This is a development server. Do not use it in a production deployment. Use a production WSGI server instead.\n",
      " * Running on all addresses (0.0.0.0)\n",
      " * Running on http://127.0.0.1:5000\n",
      " * Running on http://192.168.100.25:5000\n",
      "Press CTRL+C to quit\n"
     ]
    }
   ],
   "source": [
    "@app.route('/thank_you')\n",
    "def thank_you():\n",
    "    return \"Thank you for participating!\"\n",
    "\n",
    "if __name__ == '__main__':\n",
    "    app.run(\n",
    "        host='0.0.0.0',\n",
    "        port=5000,\n",
    "        debug=True,  # Keep debug for development\n",
    "        use_reloader=False  # Disable problematic reloader\n",
    "    )"
   ]
  },
  {
   "cell_type": "code",
   "execution_count": null,
   "id": "621f5120-e596-4b15-97c5-1e8ab4dcb877",
   "metadata": {},
   "outputs": [],
   "source": []
  }
 ],
 "metadata": {
  "kernelspec": {
   "display_name": "Python [conda env:base] *",
   "language": "python",
   "name": "conda-base-py"
  },
  "language_info": {
   "codemirror_mode": {
    "name": "ipython",
    "version": 3
   },
   "file_extension": ".py",
   "mimetype": "text/x-python",
   "name": "python",
   "nbconvert_exporter": "python",
   "pygments_lexer": "ipython3",
   "version": "3.12.3"
  }
 },
 "nbformat": 4,
 "nbformat_minor": 5
}
